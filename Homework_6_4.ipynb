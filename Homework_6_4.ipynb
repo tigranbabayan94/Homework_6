{
 "cells": [
  {
   "cell_type": "code",
   "execution_count": 2,
   "metadata": {
    "collapsed": true
   },
   "outputs": [],
   "source": [
    "import quandl\n",
    "data = quandl.get([\"EOD/DIS\",\"EOD/JPM\",\"EOD/KO\"], authtoken = 'Please enter you API key')"
   ]
  },
  {
   "cell_type": "code",
   "execution_count": 3,
   "metadata": {
    "collapsed": true
   },
   "outputs": [],
   "source": [
    "data1=data[['EOD/KO - Adj_Close','EOD/JPM - Adj_Close','EOD/DIS - Adj_Close']]"
   ]
  },
  {
   "cell_type": "code",
   "execution_count": 4,
   "metadata": {},
   "outputs": [
    {
     "data": {
      "text/html": [
       "<div>\n",
       "<style>\n",
       "    .dataframe thead tr:only-child th {\n",
       "        text-align: right;\n",
       "    }\n",
       "\n",
       "    .dataframe thead th {\n",
       "        text-align: left;\n",
       "    }\n",
       "\n",
       "    .dataframe tbody tr th {\n",
       "        vertical-align: top;\n",
       "    }\n",
       "</style>\n",
       "<table border=\"1\" class=\"dataframe\">\n",
       "  <thead>\n",
       "    <tr style=\"text-align: right;\">\n",
       "      <th></th>\n",
       "      <th>EOD/KO - Adj_Close</th>\n",
       "      <th>EOD/JPM - Adj_Close</th>\n",
       "      <th>EOD/DIS - Adj_Close</th>\n",
       "    </tr>\n",
       "  </thead>\n",
       "  <tbody>\n",
       "    <tr>\n",
       "      <th>EOD/KO - Adj_Close</th>\n",
       "      <td>1.000000</td>\n",
       "      <td>0.937455</td>\n",
       "      <td>0.932622</td>\n",
       "    </tr>\n",
       "    <tr>\n",
       "      <th>EOD/JPM - Adj_Close</th>\n",
       "      <td>0.937455</td>\n",
       "      <td>1.000000</td>\n",
       "      <td>0.927647</td>\n",
       "    </tr>\n",
       "    <tr>\n",
       "      <th>EOD/DIS - Adj_Close</th>\n",
       "      <td>0.932622</td>\n",
       "      <td>0.927647</td>\n",
       "      <td>1.000000</td>\n",
       "    </tr>\n",
       "  </tbody>\n",
       "</table>\n",
       "</div>"
      ],
      "text/plain": [
       "                     EOD/KO - Adj_Close  EOD/JPM - Adj_Close  \\\n",
       "EOD/KO - Adj_Close             1.000000             0.937455   \n",
       "EOD/JPM - Adj_Close            0.937455             1.000000   \n",
       "EOD/DIS - Adj_Close            0.932622             0.927647   \n",
       "\n",
       "                     EOD/DIS - Adj_Close  \n",
       "EOD/KO - Adj_Close              0.932622  \n",
       "EOD/JPM - Adj_Close             0.927647  \n",
       "EOD/DIS - Adj_Close             1.000000  "
      ]
     },
     "execution_count": 4,
     "metadata": {},
     "output_type": "execute_result"
    }
   ],
   "source": [
    "data1.corr()"
   ]
  }
 ],
 "metadata": {
  "kernelspec": {
   "display_name": "Python 2",
   "language": "python",
   "name": "python2"
  },
  "language_info": {
   "codemirror_mode": {
    "name": "ipython",
    "version": 2
   },
   "file_extension": ".py",
   "mimetype": "text/x-python",
   "name": "python",
   "nbconvert_exporter": "python",
   "pygments_lexer": "ipython2",
   "version": "2.7.13"
  }
 },
 "nbformat": 4,
 "nbformat_minor": 2
}
