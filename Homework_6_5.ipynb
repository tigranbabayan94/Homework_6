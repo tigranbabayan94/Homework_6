{
 "cells": [
  {
   "cell_type": "code",
   "execution_count": 37,
   "metadata": {
    "collapsed": true
   },
   "outputs": [],
   "source": [
    "import googlemaps\n",
    "from datetime import datetime\n",
    "from pprint import pprint\n",
    "import re"
   ]
  },
  {
   "cell_type": "code",
   "execution_count": 38,
   "metadata": {
    "collapsed": true
   },
   "outputs": [],
   "source": [
    "gmaps = googlemaps.Client(key='Please enter Your API key')"
   ]
  },
  {
   "cell_type": "code",
   "execution_count": 39,
   "metadata": {},
   "outputs": [
    {
     "name": "stdout",
     "output_type": "stream",
     "text": [
      "The distance between New York, USA, and Las Vegas, USA is 4046.4 km or 2,529 mi.\n",
      "The distance between New York, USA, and Chicago, USA is 1275.2 km or 797 mi.\n",
      "The distance between New York, USA, and Los Angeles, USA is 4443.2 km or 2,777 mi.\n",
      "The distance between New York, USA, and San Francisco, USA is 4662.4 km or 2,914 mi.\n",
      "The distance between New York, USA, and Salt Lake City, USA is 3488.0 km or 2,180 mi.\n",
      "The distance between New York, USA, and Mexico City, Mexico is 6758.4 km or 4,224 km.\n",
      "The distance between New York, USA, and Panama City, Panama is 11561.6 km or 7,226 km.\n",
      "The distance between New York, USA, and Ottawa, Canada is 1153.6 km or 721 km.\n",
      "The distance between New York, USA, and Washington, USA is 4460.8 km or 2,788 mi.\n",
      "The distance between New York, USA, and Denver, USA is 2856.0 km or 1,785 mi.\n"
     ]
    }
   ],
   "source": [
    "cities = [\"Las Vegas, USA\",\"Chicago, USA\",\"Los Angeles, USA\",\"San Francisco, USA\",\"Salt Lake City, USA\", \"Mexico City, Mexico\",\n",
    "         \"Panama City, Panama\",\"Ottawa, Canada\",\"Washington, USA\", \"Denver, USA\"]\n",
    "now = datetime.now()\n",
    "for location in cities:\n",
    "    directions_result = gmaps.directions(location ,\"New York, USA\", departure_time=now)\n",
    "    for i in directions_result:\n",
    "        legs = i[\"legs\"]\n",
    "        for x in legs:\n",
    "            dist = x[\"distance\"]\n",
    "            x = str(dist[\"text\"])\n",
    "            y = re.sub(',','',x)\n",
    "            z = re.findall('[0-9]+',y)\n",
    "            km = float(z[0])*1.60\n",
    "        print \"The distance between New York, USA, and \"+location + \" is \" + str(km) + \" km or \" + dist[\"text\"]+\".\" "
   ]
  },
  {
   "cell_type": "code",
   "execution_count": null,
   "metadata": {
    "collapsed": true
   },
   "outputs": [],
   "source": []
  }
 ],
 "metadata": {
  "kernelspec": {
   "display_name": "Python 2",
   "language": "python",
   "name": "python2"
  },
  "language_info": {
   "codemirror_mode": {
    "name": "ipython",
    "version": 2
   },
   "file_extension": ".py",
   "mimetype": "text/x-python",
   "name": "python",
   "nbconvert_exporter": "python",
   "pygments_lexer": "ipython2",
   "version": "2.7.13"
  }
 },
 "nbformat": 4,
 "nbformat_minor": 2
}
